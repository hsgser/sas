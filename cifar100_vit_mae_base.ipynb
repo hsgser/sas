{
 "cells": [
  {
   "cell_type": "markdown",
   "metadata": {},
   "source": [
    "# Load proxy model"
   ]
  },
  {
   "cell_type": "code",
   "execution_count": 29,
   "metadata": {},
   "outputs": [],
   "source": [
    "from transformers import AutoImageProcessor, ViTMAEForPreTraining\n",
    "from PIL import Image\n",
    "import requests\n",
    "\n",
    "url = 'http://images.cocodataset.org/val2017/000000039769.jpg'\n",
    "image = Image.open(requests.get(url, stream=True).raw)\n",
    "\n",
    "processor = AutoImageProcessor.from_pretrained('facebook/vit-mae-base')\n",
    "model = ViTMAEForPreTraining.from_pretrained('facebook/vit-mae-base')"
   ]
  },
  {
   "cell_type": "code",
   "execution_count": 59,
   "metadata": {},
   "outputs": [],
   "source": [
    "from torch import nn \n",
    "\n",
    "class ProxyModel(nn.Module):\n",
    "    def __init__(self, net):\n",
    "        super().__init__()\n",
    "        self.encoder = net.vit\n",
    "    def forward(self, inputs):\n",
    "        return self.encoder(inputs).last_hidden_state[:,0,:].squeeze(1)"
   ]
  },
  {
   "cell_type": "markdown",
   "metadata": {},
   "source": [
    "# Load Data"
   ]
  },
  {
   "cell_type": "code",
   "execution_count": 49,
   "metadata": {},
   "outputs": [
    {
     "name": "stderr",
     "output_type": "stream",
     "text": [
      "/home/dangnth/anaconda3/envs/sas/lib/python3.10/site-packages/torchvision/transforms/transforms.py:891: UserWarning: Argument 'interpolation' of type int is deprecated since 0.13 and will be removed in 0.15. Please use InterpolationMode enum.\n",
      "  warnings.warn(\n"
     ]
    }
   ],
   "source": [
    "import torchvision\n",
    "from torchvision import transforms\n",
    "\n",
    "transform_train = transforms.Compose([\n",
    "            transforms.RandomResizedCrop(224, interpolation=Image.BICUBIC),\n",
    "            transforms.ToTensor(),\n",
    "        ])\n",
    "\n",
    "# cifar100 = torchvision.datasets.CIFAR100(\"/data/cifar100/\", transform=processor)\n",
    "cifar100 = torchvision.datasets.CIFAR100(\"/data/cifar100/\", transform=transform_train)\n",
    "device = \"cuda:0\""
   ]
  },
  {
   "cell_type": "markdown",
   "metadata": {},
   "source": [
    "# Partition into approximate latent classes"
   ]
  },
  {
   "cell_type": "code",
   "execution_count": 56,
   "metadata": {},
   "outputs": [],
   "source": [
    "from sas.approx_latent_classes import clip_approx\n",
    "from sas.subset_dataset import SASSubsetDataset\n",
    "import random \n",
    "\n",
    "rand_labeled_examples_indices = random.sample(range(len(cifar100)), 500)\n",
    "rand_labeled_examples_labels = [cifar100[i][1] for i in rand_labeled_examples_indices]\n",
    "\n",
    "partition = clip_approx(\n",
    "    img_trainset=cifar100,\n",
    "    labeled_example_indices=rand_labeled_examples_indices, \n",
    "    labeled_examples_labels=rand_labeled_examples_labels,\n",
    "    num_classes=100,\n",
    "    device=device\n",
    ")"
   ]
  },
  {
   "cell_type": "markdown",
   "metadata": {},
   "source": [
    "# Determine subset"
   ]
  },
  {
   "cell_type": "code",
   "execution_count": 60,
   "metadata": {},
   "outputs": [
    {
     "name": "stderr",
     "output_type": "stream",
     "text": [
      "Subset Selection:: 100%|██████████| 100/100 [00:03<00:00, 28.60it/s]"
     ]
    },
    {
     "name": "stdout",
     "output_type": "stream",
     "text": [
      "Subset Size: 10000\n",
      "Discarded 40000 examples\n"
     ]
    },
    {
     "name": "stderr",
     "output_type": "stream",
     "text": [
      "\n"
     ]
    }
   ],
   "source": [
    "proxy_model = ProxyModel(model)\n",
    "     \n",
    "subset_dataset = SASSubsetDataset(\n",
    "    dataset=cifar100,\n",
    "    subset_fraction=0.2,\n",
    "    num_downstream_classes=100,\n",
    "    device=device,\n",
    "    proxy_model=proxy_model,\n",
    "    approx_latent_class_partition=partition,\n",
    "    verbose=True\n",
    ")"
   ]
  },
  {
   "cell_type": "markdown",
   "metadata": {},
   "source": [
    "# Save subset to file"
   ]
  },
  {
   "cell_type": "code",
   "execution_count": 6,
   "metadata": {},
   "outputs": [],
   "source": [
    "import os\n",
    "os.makedirs('subset_indices', exist_ok=True)\n",
    "subset_dataset.save_to_file(\"subset_indices/cifar100-0.2-sas-indices-vit-mae-base-imagenet1k.pkl\")"
   ]
  }
 ],
 "metadata": {
  "kernelspec": {
   "display_name": "clip",
   "language": "python",
   "name": "python3"
  },
  "language_info": {
   "codemirror_mode": {
    "name": "ipython",
    "version": 3
   },
   "file_extension": ".py",
   "mimetype": "text/x-python",
   "name": "python",
   "nbconvert_exporter": "python",
   "pygments_lexer": "ipython3",
   "version": "3.10.13"
  },
  "orig_nbformat": 4
 },
 "nbformat": 4,
 "nbformat_minor": 2
}
