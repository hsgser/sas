{
 "cells": [
  {
   "cell_type": "markdown",
   "id": "918b0144-0799-41e1-b0f4-8096015b6b8a",
   "metadata": {},
   "source": [
    "# Import libraries"
   ]
  },
  {
   "cell_type": "code",
   "execution_count": 9,
   "id": "8530bb38-9f70-4db1-8035-139f5e2cb87c",
   "metadata": {},
   "outputs": [],
   "source": [
    "import os\n",
    "import argparse\n",
    "import random \n",
    "from util import Random\n",
    "from configs import SupportedDatasets\n",
    "from sas.approx_latent_classes import clip_approx\n",
    "from sas.subset_dataset import SASSubsetDataset\n",
    "from data_proc.dataset import *\n",
    "import torch\n",
    "from torch import nn \n",
    "import torchvision\n",
    "from torchvision import transforms\n",
    "from transformers import ViTMAEForPreTraining\n",
    "from configs import SupportedDatasets, get_datasets\n",
    "from evaluate.lbfgs import encode_train_set, train_clf, test_clf\n",
    "from trainer import Trainer"
   ]
  },
  {
   "cell_type": "markdown",
   "id": "fe271676-1fbd-4b06-92fd-ebb7be7e30a4",
   "metadata": {},
   "source": [
    "# Load data"
   ]
  },
  {
   "cell_type": "code",
   "execution_count": 4,
   "id": "1bd1087c-93a8-4ad7-bd43-5cac25664abe",
   "metadata": {},
   "outputs": [
    {
     "name": "stderr",
     "output_type": "stream",
     "text": [
      "/home/dangnth/anaconda3/envs/sas/lib/python3.10/site-packages/torchvision/transforms/transforms.py:891: UserWarning: Argument 'interpolation' of type int is deprecated since 0.13 and will be removed in 0.15. Please use InterpolationMode enum.\n",
      "  warnings.warn(\n"
     ]
    },
    {
     "name": "stdout",
     "output_type": "stream",
     "text": [
      "Files already downloaded and verified\n",
      "Files already downloaded and verified\n",
      "Files already downloaded and verified\n"
     ]
    }
   ],
   "source": [
    "datasets = get_datasets('cifar100')"
   ]
  },
  {
   "cell_type": "code",
   "execution_count": 6,
   "id": "a1d1c96d-dae2-400f-b0a4-796cfd03da8f",
   "metadata": {},
   "outputs": [],
   "source": [
    "clftrainloader = torch.utils.data.DataLoader(\n",
    "    dataset=datasets.clftrainset,\n",
    "    batch_size=512, \n",
    "    shuffle=False, \n",
    "    num_workers=4, \n",
    "    pin_memory=True\n",
    ")\n",
    "testloader = torch.utils.data.DataLoader(\n",
    "    dataset=datasets.testset,\n",
    "    batch_size=512, \n",
    "    shuffle=False, \n",
    "    num_workers=4,\n",
    "    pin_memory=True,\n",
    ")"
   ]
  },
  {
   "cell_type": "markdown",
   "id": "7c9c25b8-d38d-472f-8911-7b439f234f42",
   "metadata": {},
   "source": [
    "# Load model"
   ]
  },
  {
   "cell_type": "code",
   "execution_count": 12,
   "id": "33a80928-5a80-4fe2-bf3b-2e63a074a725",
   "metadata": {},
   "outputs": [],
   "source": [
    "# net = torch.load(\"ckpt/proxy-cifar100-resnet10-399-net.pt\") # 61.64\n",
    "net = torch.load(\"ckpt/2023-11-30 01:24:35.890-cifar100-resnet10-seed0-399-net.pt\") # 60.75"
   ]
  },
  {
   "cell_type": "markdown",
   "id": "db2a6059-f2bb-4f26-9f2c-bdad6c6ebd92",
   "metadata": {},
   "source": [
    "# Linear probing accuracy"
   ]
  },
  {
   "cell_type": "code",
   "execution_count": 18,
   "id": "0f396bc2-8ab5-44bc-9e17-bc9110d509a2",
   "metadata": {},
   "outputs": [],
   "source": [
    "trainer = Trainer(\n",
    "    device='cuda:0',\n",
    "    distributed=False,\n",
    "    rank=0,\n",
    "    world_size=1,\n",
    "    net=net,\n",
    "    critic=None,\n",
    "    trainloader=None,\n",
    "    clftrainloader=clftrainloader,\n",
    "    testloader=testloader,\n",
    "    num_classes=datasets.num_classes,\n",
    "    optimizer=None,\n",
    ")"
   ]
  },
  {
   "cell_type": "code",
   "execution_count": null,
   "id": "a59e7df2-79a3-40f5-ab53-df6c757e71d0",
   "metadata": {},
   "outputs": [],
   "source": [
    "test_acc = trainer.test()\n",
    "print(test_acc)"
   ]
  }
 ],
 "metadata": {
  "kernelspec": {
   "display_name": "Python 3 (ipykernel)",
   "language": "python",
   "name": "python3"
  },
  "language_info": {
   "codemirror_mode": {
    "name": "ipython",
    "version": 3
   },
   "file_extension": ".py",
   "mimetype": "text/x-python",
   "name": "python",
   "nbconvert_exporter": "python",
   "pygments_lexer": "ipython3",
   "version": "3.10.13"
  }
 },
 "nbformat": 4,
 "nbformat_minor": 5
}
