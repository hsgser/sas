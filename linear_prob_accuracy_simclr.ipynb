{
 "cells": [
  {
   "cell_type": "markdown",
   "id": "918b0144-0799-41e1-b0f4-8096015b6b8a",
   "metadata": {},
   "source": [
    "# Import libraries"
   ]
  },
  {
   "cell_type": "code",
   "execution_count": 1,
   "id": "8530bb38-9f70-4db1-8035-139f5e2cb87c",
   "metadata": {},
   "outputs": [],
   "source": [
    "from data_proc.dataset import *\n",
    "import torch\n",
    "from configs import get_datasets\n",
    "from trainer import Trainer"
   ]
  },
  {
   "cell_type": "markdown",
   "id": "fe271676-1fbd-4b06-92fd-ebb7be7e30a4",
   "metadata": {},
   "source": [
    "# Load data"
   ]
  },
  {
   "cell_type": "code",
   "execution_count": 3,
   "id": "a1d1c96d-dae2-400f-b0a4-796cfd03da8f",
   "metadata": {},
   "outputs": [],
   "source": [
    "datasets = get_datasets('cifar100')\n",
    "\n",
    "clftrainloader = torch.utils.data.DataLoader(\n",
    "    dataset=datasets.clftrainset,\n",
    "    batch_size=512, \n",
    "    shuffle=False, \n",
    "    num_workers=4, \n",
    "    pin_memory=True\n",
    ")\n",
    "testloader = torch.utils.data.DataLoader(\n",
    "    dataset=datasets.testset,\n",
    "    batch_size=512, \n",
    "    shuffle=False, \n",
    "    num_workers=4,\n",
    "    pin_memory=True,\n",
    ")"
   ]
  },
  {
   "cell_type": "markdown",
   "id": "7c9c25b8-d38d-472f-8911-7b439f234f42",
   "metadata": {},
   "source": [
    "# Linear probing accuracy"
   ]
  },
  {
   "cell_type": "code",
   "execution_count": 9,
   "id": "33a80928-5a80-4fe2-bf3b-2e63a074a725",
   "metadata": {},
   "outputs": [
    {
     "name": "stderr",
     "output_type": "stream",
     "text": [
      "Encoded 97/98: ██████████| 98/98 [00:02<00:00, 37.82it/s]\n"
     ]
    },
    {
     "name": "stdout",
     "output_type": "stream",
     "text": [
      "\n",
      "L2 Regularization weight: 1e-05\n"
     ]
    },
    {
     "name": "stderr",
     "output_type": "stream",
     "text": [
      "Loss: 2.256 | Train Acc: 49.982% : ██████████| 100/100 [00:03<00:00, 31.77it/s]\n",
      "Loss: 2.171 | Test Acc: 44.230% : ██████████| 20/20 [00:00<00:00, 27.94it/s]"
     ]
    },
    {
     "name": "stdout",
     "output_type": "stream",
     "text": [
      "44.23\n"
     ]
    },
    {
     "name": "stderr",
     "output_type": "stream",
     "text": [
      "\n"
     ]
    }
   ],
   "source": [
    "# Load model\n",
    "# net = torch.load(\"ckpt/2023-11-29 23:23:00.092-cifar10-resnet10-seed0-399-net.pt\") # 53.67\n",
    "# net = torch.load(\"ckpt/2023-11-30 01:24:35.890-cifar100-resnet10-seed0-399-net.pt\") # 60.75\n",
    "# net = torch.load(\"ckpt/2023-11-30 01:27:57.900-stl10-resnet10-seed0-399-net.pt\") # 39.87\n",
    "net = torch.load(\"ckpt/2023-11-30 01:32:57.421-tiny_imagenet-resnet10-seed0-399-net.pt\") # 44.23\n",
    "net = net.to('cuda:0')\n",
    "\n",
    "\n",
    "# Create trainer\n",
    "trainer = Trainer(\n",
    "    device='cuda:0',\n",
    "    distributed=False,\n",
    "    rank=0,\n",
    "    world_size=1,\n",
    "    net=net,\n",
    "    critic=None,\n",
    "    trainloader=None,\n",
    "    clftrainloader=clftrainloader,\n",
    "    testloader=testloader,\n",
    "    num_classes=datasets.num_classes,\n",
    "    optimizer=None,\n",
    ")\n",
    "\n",
    "# Evaluation\n",
    "test_acc = trainer.test()\n",
    "print(test_acc)"
   ]
  }
 ],
 "metadata": {
  "kernelspec": {
   "display_name": "Python 3 (ipykernel)",
   "language": "python",
   "name": "python3"
  },
  "language_info": {
   "codemirror_mode": {
    "name": "ipython",
    "version": 3
   },
   "file_extension": ".py",
   "mimetype": "text/x-python",
   "name": "python",
   "nbconvert_exporter": "python",
   "pygments_lexer": "ipython3",
   "version": "3.10.13"
  }
 },
 "nbformat": 4,
 "nbformat_minor": 5
}
